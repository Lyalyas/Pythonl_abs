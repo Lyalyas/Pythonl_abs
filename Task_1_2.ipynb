{
  "cells": [
    {
      "cell_type": "code",
      "execution_count": null,
      "id": "6ec204e7",
      "metadata": {
        "id": "6ec204e7"
      },
      "outputs": [],
      "source": []
    },
    {
      "cell_type": "markdown",
      "id": "aae158d6",
      "metadata": {
        "id": "aae158d6"
      },
      "source": [
        "## Задание\n",
        "\n",
        "Написать программу, получающую от пользователя длины катетов прямоугольного треугольника и выводящую на экран строку \"Площадь треугольника равна S\". Величину S рассчитать используя длины катетов и оператор умножения `*`. При вводе длин катетов выдать пользователю соответствующие сообщения."
      ]
    },
    {
      "cell_type": "markdown",
      "source": [
        "kat1 = int(input(\"Введите первый катет\")\n",
        "kat2 = int(input(\"Введите второй катет\")\n",
        "print("
      ],
      "metadata": {
        "id": "IwgdneJTMgX1"
      },
      "id": "IwgdneJTMgX1"
    },
    {
      "cell_type": "code",
      "source": [
        "kat1 = int(input(\"Введите первый катет\"))\n",
        "kat2 = int(input(\"Введите второй катет\"))\n",
        "print(\"Площадь треугольника равна  \",kat1 * kat2 / 2)"
      ],
      "metadata": {
        "colab": {
          "base_uri": "https://localhost:8080/"
        },
        "id": "kFncsNZGMumi",
        "outputId": "1fb13d70-f510-48d4-f74b-b34f615d435c"
      },
      "id": "kFncsNZGMumi",
      "execution_count": null,
      "outputs": [
        {
          "output_type": "stream",
          "name": "stdout",
          "text": [
            "Введите первый катет2\n",
            "Введите второй катет3\n",
            "Площадь треугольника равна S  3.0\n"
          ]
        }
      ]
    },
    {
      "cell_type": "markdown",
      "id": "0f10bef2",
      "metadata": {
        "id": "0f10bef2"
      },
      "source": [
        "## Задание\n",
        "\n",
        "Элементы матрицы с 7 столбцами пронумерованы в порядке слева-направо, сверху-вниз, начиная с 0. На какой строке и в каком столбце расположен элемент под номером 1388?"
      ]
    },
    {
      "cell_type": "code",
      "source": [
        "#v2 \n",
        "raw = 1388//7\n",
        "colomn = 1388%7 - 1\n",
        "raw, colomn"
      ],
      "metadata": {
        "colab": {
          "base_uri": "https://localhost:8080/"
        },
        "id": "mwb_RJz-MZFO",
        "outputId": "29551b81-1386-4aa9-e28a-059b8282a4d3"
      },
      "id": "mwb_RJz-MZFO",
      "execution_count": null,
      "outputs": [
        {
          "output_type": "execute_result",
          "data": {
            "text/plain": [
              "(198, 1)"
            ]
          },
          "metadata": {},
          "execution_count": 110
        }
      ]
    },
    {
      "cell_type": "markdown",
      "id": "923d83ed",
      "metadata": {
        "id": "923d83ed"
      },
      "source": [
        "## Задание\n",
        "\n",
        "1. Вычислить объем шара радиуса 1\n",
        "\n",
        "2. Проверить равенство $e^{i\\pi} = -1$"
      ]
    },
    {
      "cell_type": "code",
      "source": [
        "import math\n",
        "print(1/3 * math.pi)\n",
        "print(((math.e **(1j*math.pi)).real)==-1)\n"
      ],
      "metadata": {
        "colab": {
          "base_uri": "https://localhost:8080/"
        },
        "id": "hjebl1112K_o",
        "outputId": "854f113f-185d-4b55-cd8c-810fde8eb04c"
      },
      "id": "hjebl1112K_o",
      "execution_count": null,
      "outputs": [
        {
          "output_type": "stream",
          "name": "stdout",
          "text": [
            "1.0471975511965976\n",
            "True\n"
          ]
        }
      ]
    },
    {
      "cell_type": "markdown",
      "id": "abc3f8e6",
      "metadata": {
        "id": "abc3f8e6"
      },
      "source": [
        "## Задание\n",
        "\n",
        "Катет $a$ прямоугольного треугольника равен $4$, а противолежащий ему угол $\\alpha$ равен $60^\\circ$. Найти площадь треугольника.\n",
        "\n"
      ]
    },
    {
      "cell_type": "code",
      "source": [
        "t = math.radians(60)\n",
        "gip = math.sin(t)*4\n",
        "sqrt_ = gip/2 *4 /2\n",
        "sqrt_"
      ],
      "metadata": {
        "colab": {
          "base_uri": "https://localhost:8080/"
        },
        "id": "qPUZ-nPZ3p_e",
        "outputId": "91ca0026-54e9-469a-8a74-d558fe70268b"
      },
      "id": "qPUZ-nPZ3p_e",
      "execution_count": null,
      "outputs": [
        {
          "output_type": "execute_result",
          "data": {
            "text/plain": [
              "3.4641016151377544"
            ]
          },
          "metadata": {},
          "execution_count": 120
        }
      ]
    },
    {
      "cell_type": "markdown",
      "id": "93ca91ac",
      "metadata": {
        "id": "93ca91ac"
      },
      "source": [
        "## Задание\n",
        "\n",
        "Написать программу, которая по величине эксцентриситета (введенной пользователем) выведет на экран тип околоземной орбиты.\n",
        "\n",
        "Связь величины эксцентриситета $e$ с типом орбиты:\n",
        "- $e = 0$ - круговая орбита\n",
        "- $0 < e < 1$ - эллиптическая орбита\n",
        "- $e = 1$ - параболическая орбита\n",
        "- $1 < e < \\infty$ - гиперболическая орбита\n",
        "- $e = \\infty$ - прямая\n",
        "\n",
        "Константа, соответствующая $\\infty$ есть в модуле `math` и называется `inf`"
      ]
    },
    {
      "cell_type": "code",
      "source": [
        "exc = input()\n",
        "t = float(exc)\n",
        "if t == 0: print(\"Круговая орбита\")\n",
        "elif t ==1 : print(\"Параболическая орбита\")\n",
        "elif exc == \"inf\": print (\"прямая\") \n",
        "elif t >1: print (\"гиперболическая орбита\")\n",
        "else: print(\"эллиптическая орбита\")"
      ],
      "metadata": {
        "colab": {
          "base_uri": "https://localhost:8080/"
        },
        "id": "3k5GJwRk5Km5",
        "outputId": "3ef41362-e9a3-4dd9-d705-44c551cd8427"
      },
      "id": "3k5GJwRk5Km5",
      "execution_count": null,
      "outputs": [
        {
          "output_type": "stream",
          "name": "stdout",
          "text": [
            "inf\n",
            "прямая\n"
          ]
        }
      ]
    },
    {
      "cell_type": "markdown",
      "source": [],
      "metadata": {
        "id": "UKSWDqjZ5A_f"
      },
      "id": "UKSWDqjZ5A_f"
    },
    {
      "cell_type": "markdown",
      "id": "8e9b1fcb",
      "metadata": {
        "id": "8e9b1fcb"
      },
      "source": [
        "## Задание\n",
        "\n",
        "Проверить равенство $\\sum\\limits_{k=0}^{\\infty}\\frac{1}{k!} = e$, посчитав частичную сумму ряда."
      ]
    },
    {
      "cell_type": "code",
      "source": [
        "sum = 0\n",
        "k=0\n",
        "for i in range(1000):\n",
        "    if sum == (sum + 1/math.factorial(k)):\n",
        "      print(\"все\")\n",
        "      break\n",
        "    sum += 1/math.factorial(k)\n",
        "    k+=1\n",
        "print(round(sum,10) == round(math.e,10))\n"
      ],
      "metadata": {
        "colab": {
          "base_uri": "https://localhost:8080/"
        },
        "id": "0BUz3PTn6xSL",
        "outputId": "d43f9a3d-ff7b-4f15-d24e-e68f62744f17"
      },
      "id": "0BUz3PTn6xSL",
      "execution_count": null,
      "outputs": [
        {
          "output_type": "stream",
          "name": "stdout",
          "text": [
            "все\n",
            "True\n"
          ]
        }
      ]
    },
    {
      "cell_type": "markdown",
      "id": "6b0937af",
      "metadata": {
        "id": "6b0937af"
      },
      "source": [
        "## Задание\n",
        "\n",
        "Рассчитать количество `n` членов ряда, при котором равенство $\\sum\\limits_{k=1}^{n}\\frac{(-1)^{k+1}}{k^2} \\approx \\frac{\\pi^2}{12}$ достигается с точностью $10^{-10}$.\n",
        "\n",
        "Модуль числа возвращает функция `abs`."
      ]
    },
    {
      "cell_type": "code",
      "source": [
        "k=1\n",
        "sum=0\n",
        "while abs(sum - (math.pi**2)/12) >= 10**(-10):\n",
        "  sum += ((-1)**(k+1))/(k**2)\n",
        "  k+=1\n",
        "print(k-1)"
      ],
      "metadata": {
        "colab": {
          "base_uri": "https://localhost:8080/"
        },
        "id": "QEOJUWud89Iz",
        "outputId": "11543e7c-b3a1-464f-8b5c-f5b6c792bc68"
      },
      "id": "QEOJUWud89Iz",
      "execution_count": null,
      "outputs": [
        {
          "output_type": "stream",
          "name": "stdout",
          "text": [
            "70705\n"
          ]
        }
      ]
    },
    {
      "cell_type": "markdown",
      "id": "fb028a29",
      "metadata": {
        "id": "fb028a29"
      },
      "source": [
        "## Задание\n",
        "\n",
        "Вывести на экран названия всех файлов, в которые должны быть записаны результаты расчетов.\n",
        "Расчеты определяются параметрами:\n",
        "- `n` - целое число в полуинтервале [0, 20) с шагом 5\n",
        "- `z` - действительное число на отрезке [0.0, 100.0] с шагом в 10.0\n",
        "\n",
        "Шаблон имени файла:\n",
        "`'results_n00_z000.bin'`"
      ]
    },
    {
      "cell_type": "code",
      "source": [
        "for i in range(0,20,5):\n",
        "  for j in range(0,101,10):\n",
        "    print(\"results_n\",f\"{i:02}\",\"_z\",f\"{j:003}\",\".bin\")"
      ],
      "metadata": {
        "colab": {
          "base_uri": "https://localhost:8080/"
        },
        "id": "crxlynHDAMa2",
        "outputId": "4bf3ac6f-c141-4653-f4ce-4b71e15843df"
      },
      "id": "crxlynHDAMa2",
      "execution_count": null,
      "outputs": [
        {
          "output_type": "stream",
          "name": "stdout",
          "text": [
            "results_n 00 _z 000 .bin\n",
            "results_n 00 _z 010 .bin\n",
            "results_n 00 _z 020 .bin\n",
            "results_n 00 _z 030 .bin\n",
            "results_n 00 _z 040 .bin\n",
            "results_n 00 _z 050 .bin\n",
            "results_n 00 _z 060 .bin\n",
            "results_n 00 _z 070 .bin\n",
            "results_n 00 _z 080 .bin\n",
            "results_n 00 _z 090 .bin\n",
            "results_n 00 _z 100 .bin\n",
            "results_n 05 _z 000 .bin\n",
            "results_n 05 _z 010 .bin\n",
            "results_n 05 _z 020 .bin\n",
            "results_n 05 _z 030 .bin\n",
            "results_n 05 _z 040 .bin\n",
            "results_n 05 _z 050 .bin\n",
            "results_n 05 _z 060 .bin\n",
            "results_n 05 _z 070 .bin\n",
            "results_n 05 _z 080 .bin\n",
            "results_n 05 _z 090 .bin\n",
            "results_n 05 _z 100 .bin\n",
            "results_n 10 _z 000 .bin\n",
            "results_n 10 _z 010 .bin\n",
            "results_n 10 _z 020 .bin\n",
            "results_n 10 _z 030 .bin\n",
            "results_n 10 _z 040 .bin\n",
            "results_n 10 _z 050 .bin\n",
            "results_n 10 _z 060 .bin\n",
            "results_n 10 _z 070 .bin\n",
            "results_n 10 _z 080 .bin\n",
            "results_n 10 _z 090 .bin\n",
            "results_n 10 _z 100 .bin\n",
            "results_n 15 _z 000 .bin\n",
            "results_n 15 _z 010 .bin\n",
            "results_n 15 _z 020 .bin\n",
            "results_n 15 _z 030 .bin\n",
            "results_n 15 _z 040 .bin\n",
            "results_n 15 _z 050 .bin\n",
            "results_n 15 _z 060 .bin\n",
            "results_n 15 _z 070 .bin\n",
            "results_n 15 _z 080 .bin\n",
            "results_n 15 _z 090 .bin\n",
            "results_n 15 _z 100 .bin\n"
          ]
        }
      ]
    },
    {
      "cell_type": "markdown",
      "id": "deb492a7",
      "metadata": {
        "id": "deb492a7"
      },
      "source": [
        "## Задание\n",
        "\n",
        "Из строки `Съешь ещё этих мягких французских булок, да выпей же чаю` при помощи индексации и срезов собрать строку `французский еж Съел чулок`."
      ]
    },
    {
      "cell_type": "code",
      "source": [
        "str_ = \"Съешь ещё этих мягких французских булок, да выпей же чаю\"\n",
        "str_= str_.split(' ')\n",
        "b=str_\n",
        "text = str_[4][:-1]+b[-3][-1] + \" \" + b[-2][::-1] + \" \"+b[0][:-2]+b[-5][2] + \" \"+b[-1][0]+b[-5][1]+b[-5][2:-1]\n",
        "text"
      ],
      "metadata": {
        "colab": {
          "base_uri": "https://localhost:8080/",
          "height": 37
        },
        "id": "9TseGCL-C9-s",
        "outputId": "bbb686d5-1d8d-44f1-e160-9c9bbe53d2cb"
      },
      "id": "9TseGCL-C9-s",
      "execution_count": null,
      "outputs": [
        {
          "output_type": "execute_result",
          "data": {
            "text/plain": [
              "'французский еж Съел чулок'"
            ],
            "application/vnd.google.colaboratory.intrinsic+json": {
              "type": "string"
            }
          },
          "metadata": {},
          "execution_count": 90
        }
      ]
    },
    {
      "cell_type": "markdown",
      "id": "76bb62ba",
      "metadata": {
        "id": "76bb62ba"
      },
      "source": [
        "## Задание\n",
        "\n",
        "Дана строка:\n",
        "\n",
        "```\n",
        "'results_n00_z000.bin\\nresults_n00_z010.bin\\nresults_n00_z020.bin\\nresults_n00_z030.bin\\nresults_n00_z040.bin\\nresults_n00_z050.bin\\nresults_n00_z060.bin\\nresults_n00_z070.bin\\nresults_n00_z080.bin\\nresults_n00_z090.bin\\nresults_n00_z100.bin\\nresults_n05_z000.bin\\nresults_n05_z010.bin\\nresults_n05_z020.bin\\nresults_n05_z030.bin\\nresults_n05_z040.bin\\nresults_n05_z050.bin\\nresults_n05_z060.bin\\nresults_n05_z070.bin\\nresults_n05_z080.bin\\nresults_n05_z090.bin\\nresults_n05_z100.bin\\nresults_n10_z000.bin\\nresults_n10_z010.bin\\nresults_n10_z020.bin\\nresults_n10_z030.bin\\nresults_n10_z040.bin\\nresults_n10_z050.bin\\nresults_n10_z060.bin\\nresults_n10_z070.bin\\nresults_n10_z080.bin\\nresults_n10_z090.bin\\nresults_n10_z100.bin\\nresults_n15_z000.bin\\nresults_n15_z010.bin\\nresults_n15_z020.bin\\nresults_n15_z030.bin\\nresults_n15_z040.bin\\nresults_n15_z050.bin\\nresults_n15_z060.bin\\nresults_n15_z070.bin\\nresults_n15_z080.bin\\nresults_n15_z090.bin\\nresults_n15_z100.bin\\n'\n",
        "```\n",
        "\n",
        "Строка содержит имена файлов, созданных по шаблону: `results_n00_z000.bin`, где после символов `n` и `z` расположены их значения.\n",
        "\n",
        "Необходимо вывести на экран все пары (n, z)."
      ]
    },
    {
      "cell_type": "code",
      "source": [
        "str_ = 'results_n00_z000.bin\\nresults_n00_z010.bin\\nresults_n00_z020.bin\\nresults_n00_z030.bin\\nresults_n00_z040.bin\\nresults_n00_z050.bin\\nresults_n00_z060.bin\\nresults_n00_z070.bin\\nresults_n00_z080.bin\\nresults_n00_z090.bin\\nresults_n00_z100.bin\\nresults_n05_z000.bin\\nresults_n05_z010.bin\\nresults_n05_z020.bin\\nresults_n05_z030.bin\\nresults_n05_z040.bin\\nresults_n05_z050.bin\\nresults_n05_z060.bin\\nresults_n05_z070.bin\\nresults_n05_z080.bin\\nresults_n05_z090.bin\\nresults_n05_z100.bin\\nresults_n10_z000.bin\\nresults_n10_z010.bin\\nresults_n10_z020.bin\\nresults_n10_z030.bin\\nresults_n10_z040.bin\\nresults_n10_z050.bin\\nresults_n10_z060.bin\\nresults_n10_z070.bin\\nresults_n10_z080.bin\\nresults_n10_z090.bin\\nresults_n10_z100.bin\\nresults_n15_z000.bin\\nresults_n15_z010.bin\\nresults_n15_z020.bin\\nresults_n15_z030.bin\\nresults_n15_z040.bin\\nresults_n15_z050.bin\\nresults_n15_z060.bin\\nresults_n15_z070.bin\\nresults_n15_z080.bin\\nresults_n15_z090.bin\\nresults_n15_z100.bin\\n'\n",
        "str_=str_[:-4]\n",
        "for i in range(len(str_)):\n",
        "  if str_[i]=='n':\n",
        "    n=str_[i+1]+ str_[i+2]\n",
        "  if str_[i]=='z':\n",
        "    z = str_[i+1]+ str_[i+2] + str_[i+3]\n",
        "    print(n,z)"
      ],
      "metadata": {
        "colab": {
          "base_uri": "https://localhost:8080/"
        },
        "id": "POLOXlA4GZee",
        "outputId": "1bb0a9e7-2a37-4109-bc7a-026edc97a23e"
      },
      "id": "POLOXlA4GZee",
      "execution_count": null,
      "outputs": [
        {
          "output_type": "stream",
          "name": "stdout",
          "text": [
            "00 000\n",
            "00 010\n",
            "00 020\n",
            "00 030\n",
            "00 040\n",
            "00 050\n",
            "00 060\n",
            "00 070\n",
            "00 080\n",
            "00 090\n",
            "00 100\n",
            "05 000\n",
            "05 010\n",
            "05 020\n",
            "05 030\n",
            "05 040\n",
            "05 050\n",
            "05 060\n",
            "05 070\n",
            "05 080\n",
            "05 090\n",
            "05 100\n",
            "10 000\n",
            "10 010\n",
            "10 020\n",
            "10 030\n",
            "10 040\n",
            "10 050\n",
            "10 060\n",
            "10 070\n",
            "10 080\n",
            "10 090\n",
            "10 100\n",
            "15 000\n",
            "15 010\n",
            "15 020\n",
            "15 030\n",
            "15 040\n",
            "15 050\n",
            "15 060\n",
            "15 070\n",
            "15 080\n",
            "15 090\n",
            "15 100\n"
          ]
        }
      ]
    },
    {
      "cell_type": "markdown",
      "id": "e42259aa",
      "metadata": {
        "id": "e42259aa"
      },
      "source": [
        "## Задание\n",
        "\n",
        "Для [текста](http://www.benjamin.ru/humour/ivanov/0020.html) cоздать список из кортежей и вывести его на экран.\n",
        "\n",
        "Формат кортежа:\n",
        "`(слово, длина слова, количество гласных букв)`\n"
      ]
    },
    {
      "cell_type": "code",
      "source": [
        "str_1 = \"В худой котомк поклав ржаное хлебо \"\n",
        "str_2 = \"Я ухожу туда, где птичья звон \"\n",
        "str_3 = \"И вижу над собою синий небо \"\n",
        "str_4 = \"Косматый облак и высокий крон \"\n",
        "\n",
        "str_5= \"Я дома здесь. Я здесь пришел не в гости \"\n",
        "str_6 = \"Снимаю кепк, одетый набекрень \"\n",
        "str_7 = \"Веселый птичк, помахивая хвостик \"\n",
        "str_8 = \"Высвистывает мой стихотворень \"\n",
        "\n",
        "str_9 = \"Зеленый травк ложится под ногами \"\n",
        "str_10 = \"И сам к бумаге тянется рука \"\n",
        "str_11 = \"И я шепчу дрожащие губами \"\n",
        "str_12 = \"Велик могучим русский языка \"\n",
        "text = str_1 +str_2 + str_3+str_4+str_5+str_6+str_7+str_8+str_9+str_10+str_11+str_12\n",
        "words = text.split()\n",
        "\n",
        "\n",
        "def Vov(string, vowels):\n",
        "    final = [each for each in string if each in vowels]\n",
        "    gl =(len(final))\n",
        "\n",
        "    return gl\n",
        "vowels =\"УуЕеЫыАаОоЭэЯяИиЮю\"\n",
        "k=()\n",
        "t=[]\n",
        "for i in range(len(words)):\n",
        "  k+=(words[i],)\n",
        "  k+=(len(words[i]),)\n",
        "  k+=(Vov(words[i],vowels),)\n",
        "  t.append(k)\n",
        "  k=()\n",
        "t\n"
      ],
      "metadata": {
        "colab": {
          "base_uri": "https://localhost:8080/"
        },
        "id": "-USB3zcBIGOD",
        "outputId": "1ca3218d-9afa-4661-c8a6-add02efdffb7"
      },
      "id": "-USB3zcBIGOD",
      "execution_count": null,
      "outputs": [
        {
          "output_type": "execute_result",
          "data": {
            "text/plain": [
              "[('В', 1, 0),\n",
              " ('худой', 5, 2),\n",
              " ('котомк', 6, 2),\n",
              " ('поклав', 6, 2),\n",
              " ('ржаное', 6, 3),\n",
              " ('хлебо', 5, 2),\n",
              " ('Я', 1, 1),\n",
              " ('ухожу', 5, 3),\n",
              " ('туда,', 5, 2),\n",
              " ('где', 3, 1),\n",
              " ('птичья', 6, 2),\n",
              " ('звон', 4, 1),\n",
              " ('И', 1, 1),\n",
              " ('вижу', 4, 2),\n",
              " ('над', 3, 1),\n",
              " ('собою', 5, 3),\n",
              " ('синий', 5, 2),\n",
              " ('небо', 4, 2),\n",
              " ('Косматый', 8, 3),\n",
              " ('облак', 5, 2),\n",
              " ('и', 1, 1),\n",
              " ('высокий', 7, 3),\n",
              " ('крон', 4, 1),\n",
              " ('Я', 1, 1),\n",
              " ('дома', 4, 2),\n",
              " ('здесь.', 6, 1),\n",
              " ('Я', 1, 1),\n",
              " ('здесь', 5, 1),\n",
              " ('пришел', 6, 2),\n",
              " ('не', 2, 1),\n",
              " ('в', 1, 0),\n",
              " ('гости', 5, 2),\n",
              " ('Снимаю', 6, 3),\n",
              " ('кепк,', 5, 1),\n",
              " ('одетый', 6, 3),\n",
              " ('набекрень', 9, 3),\n",
              " ('Веселый', 7, 3),\n",
              " ('птичк,', 6, 1),\n",
              " ('помахивая', 9, 5),\n",
              " ('хвостик', 7, 2),\n",
              " ('Высвистывает', 12, 5),\n",
              " ('мой', 3, 1),\n",
              " ('стихотворень', 12, 4),\n",
              " ('Зеленый', 7, 3),\n",
              " ('травк', 5, 1),\n",
              " ('ложится', 7, 3),\n",
              " ('под', 3, 1),\n",
              " ('ногами', 6, 3),\n",
              " ('И', 1, 1),\n",
              " ('сам', 3, 1),\n",
              " ('к', 1, 0),\n",
              " ('бумаге', 6, 3),\n",
              " ('тянется', 7, 3),\n",
              " ('рука', 4, 2),\n",
              " ('И', 1, 1),\n",
              " ('я', 1, 1),\n",
              " ('шепчу', 5, 2),\n",
              " ('дрожащие', 8, 4),\n",
              " ('губами', 6, 3),\n",
              " ('Велик', 5, 2),\n",
              " ('могучим', 7, 3),\n",
              " ('русский', 7, 2),\n",
              " ('языка', 5, 3)]"
            ]
          },
          "metadata": {},
          "execution_count": 126
        }
      ]
    },
    {
      "cell_type": "code",
      "source": [],
      "metadata": {
        "id": "HJNwcC7fIF39"
      },
      "id": "HJNwcC7fIF39",
      "execution_count": null,
      "outputs": []
    },
    {
      "cell_type": "code",
      "execution_count": null,
      "id": "9f9ec73f",
      "metadata": {
        "id": "9f9ec73f"
      },
      "outputs": [],
      "source": []
    },
    {
      "cell_type": "code",
      "execution_count": null,
      "id": "49c766bc",
      "metadata": {
        "colab": {
          "base_uri": "https://localhost:8080/"
        },
        "id": "49c766bc",
        "outputId": "4943efbe-c944-4ab2-c0ac-c00c1082f50b"
      },
      "outputs": [
        {
          "output_type": "stream",
          "name": "stdout",
          "text": [
            "(-1+1.2246467991473532e-16j)\n"
          ]
        }
      ],
      "source": [
        "import math\n",
        "print(math.e **(1j*math.pi))\n"
      ]
    },
    {
      "cell_type": "code",
      "source": [],
      "metadata": {
        "id": "ZKoKw7Ls2Gvb"
      },
      "id": "ZKoKw7Ls2Gvb",
      "execution_count": null,
      "outputs": []
    }
  ],
  "metadata": {
    "kernelspec": {
      "display_name": "Python 3 (ipykernel)",
      "language": "python",
      "name": "python3"
    },
    "language_info": {
      "codemirror_mode": {
        "name": "ipython",
        "version": 3
      },
      "file_extension": ".py",
      "mimetype": "text/x-python",
      "name": "python",
      "nbconvert_exporter": "python",
      "pygments_lexer": "ipython3",
      "version": "3.9.12"
    },
    "colab": {
      "provenance": [],
      "collapsed_sections": [
        "aae158d6",
        "0f10bef2",
        "abc3f8e6",
        "93ca91ac",
        "8e9b1fcb",
        "6b0937af"
      ]
    }
  },
  "nbformat": 4,
  "nbformat_minor": 5
}