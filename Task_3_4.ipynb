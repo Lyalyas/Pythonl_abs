{
  "cells": [
    {
      "cell_type": "markdown",
      "id": "bd73ebd4",
      "metadata": {
        "id": "bd73ebd4"
      },
      "source": [
        "## Задание\n",
        "\n",
        "Создать массивы и вывести на экран:\n",
        "- содержимое\n",
        "- форму\n",
        "- размер занимаемой памяти\n",
        "\n",
        "1. одномерный массив, содержащий действительные числа $\\pi, \\frac{\\pi}{2}, \\frac{\\pi}{4}, \\frac{\\pi}{8}, \\frac{\\pi}{16}, ..., \\frac{\\pi}{1024}$\n",
        "2. одномерный массив, содержащий константу `True`, если число делится на 5, иначе - `False` для чисел 10, ..., 100.\n",
        "3. двумерный массив, содержащий комплексные числа $x + iy$, где $x = 1.5k, y=2.5m, k=0,...,10, m=0,...,10$\n"
      ]
    },
    {
      "cell_type": "code",
      "source": [
        "a = []\n",
        "import numpy as np\n",
        "import math\n",
        "a.append(math.pi)\n",
        "p = math.pi\n",
        "for i in range(10):\n",
        "  p=p/2\n",
        "  a.append(p)\n",
        "a\n",
        "a = np.array( a )\n",
        "a.nbytes, a.shape , a\n",
        "\n",
        "\n"
      ],
      "metadata": {
        "colab": {
          "base_uri": "https://localhost:8080/"
        },
        "id": "sTYRvCMWVc3g",
        "outputId": "0bdc0600-800b-4ae0-d143-2cd61dad41fa"
      },
      "id": "sTYRvCMWVc3g",
      "execution_count": null,
      "outputs": [
        {
          "output_type": "execute_result",
          "data": {
            "text/plain": [
              "(88,\n",
              " (11,),\n",
              " array([3.14159265e+00, 1.57079633e+00, 7.85398163e-01, 3.92699082e-01,\n",
              "        1.96349541e-01, 9.81747704e-02, 4.90873852e-02, 2.45436926e-02,\n",
              "        1.22718463e-02, 6.13592315e-03, 3.06796158e-03]))"
            ]
          },
          "metadata": {},
          "execution_count": 5
        }
      ]
    },
    {
      "cell_type": "code",
      "source": [
        "a = np.arange(10,101)\n",
        "for i in range(len(a)):\n",
        "  if a[i]%5==0:\n",
        "    a[i]=True\n",
        "  else:\n",
        "    a[i]=False\n",
        "a.nbytes, a.shape , a"
      ],
      "metadata": {
        "colab": {
          "base_uri": "https://localhost:8080/"
        },
        "id": "9rhYjWLQaIxw",
        "outputId": "dffcab87-f902-4a08-fc21-290d84055be2"
      },
      "id": "9rhYjWLQaIxw",
      "execution_count": null,
      "outputs": [
        {
          "output_type": "execute_result",
          "data": {
            "text/plain": [
              "(728,\n",
              " (91,),\n",
              " array([1, 0, 0, 0, 0, 1, 0, 0, 0, 0, 1, 0, 0, 0, 0, 1, 0, 0, 0, 0, 1, 0,\n",
              "        0, 0, 0, 1, 0, 0, 0, 0, 1, 0, 0, 0, 0, 1, 0, 0, 0, 0, 1, 0, 0, 0,\n",
              "        0, 1, 0, 0, 0, 0, 1, 0, 0, 0, 0, 1, 0, 0, 0, 0, 1, 0, 0, 0, 0, 1,\n",
              "        0, 0, 0, 0, 1, 0, 0, 0, 0, 1, 0, 0, 0, 0, 1, 0, 0, 0, 0, 1, 0, 0,\n",
              "        0, 0, 1]))"
            ]
          },
          "metadata": {},
          "execution_count": 6
        }
      ]
    },
    {
      "cell_type": "code",
      "source": [
        "array = [[(1.5*j,2.5*i*1j) for j in range(10)]  for i in range(10)]\n",
        "array"
      ],
      "metadata": {
        "colab": {
          "base_uri": "https://localhost:8080/"
        },
        "id": "fuYljDwtbCWS",
        "outputId": "d8cd816c-a79c-4785-87aa-0c0a69c3735f"
      },
      "id": "fuYljDwtbCWS",
      "execution_count": null,
      "outputs": [
        {
          "output_type": "execute_result",
          "data": {
            "text/plain": [
              "[[(0.0, 0j),\n",
              "  (1.5, 0j),\n",
              "  (3.0, 0j),\n",
              "  (4.5, 0j),\n",
              "  (6.0, 0j),\n",
              "  (7.5, 0j),\n",
              "  (9.0, 0j),\n",
              "  (10.5, 0j),\n",
              "  (12.0, 0j),\n",
              "  (13.5, 0j)],\n",
              " [(0.0, 2.5j),\n",
              "  (1.5, 2.5j),\n",
              "  (3.0, 2.5j),\n",
              "  (4.5, 2.5j),\n",
              "  (6.0, 2.5j),\n",
              "  (7.5, 2.5j),\n",
              "  (9.0, 2.5j),\n",
              "  (10.5, 2.5j),\n",
              "  (12.0, 2.5j),\n",
              "  (13.5, 2.5j)],\n",
              " [(0.0, 5j),\n",
              "  (1.5, 5j),\n",
              "  (3.0, 5j),\n",
              "  (4.5, 5j),\n",
              "  (6.0, 5j),\n",
              "  (7.5, 5j),\n",
              "  (9.0, 5j),\n",
              "  (10.5, 5j),\n",
              "  (12.0, 5j),\n",
              "  (13.5, 5j)],\n",
              " [(0.0, 7.5j),\n",
              "  (1.5, 7.5j),\n",
              "  (3.0, 7.5j),\n",
              "  (4.5, 7.5j),\n",
              "  (6.0, 7.5j),\n",
              "  (7.5, 7.5j),\n",
              "  (9.0, 7.5j),\n",
              "  (10.5, 7.5j),\n",
              "  (12.0, 7.5j),\n",
              "  (13.5, 7.5j)],\n",
              " [(0.0, 10j),\n",
              "  (1.5, 10j),\n",
              "  (3.0, 10j),\n",
              "  (4.5, 10j),\n",
              "  (6.0, 10j),\n",
              "  (7.5, 10j),\n",
              "  (9.0, 10j),\n",
              "  (10.5, 10j),\n",
              "  (12.0, 10j),\n",
              "  (13.5, 10j)],\n",
              " [(0.0, 12.5j),\n",
              "  (1.5, 12.5j),\n",
              "  (3.0, 12.5j),\n",
              "  (4.5, 12.5j),\n",
              "  (6.0, 12.5j),\n",
              "  (7.5, 12.5j),\n",
              "  (9.0, 12.5j),\n",
              "  (10.5, 12.5j),\n",
              "  (12.0, 12.5j),\n",
              "  (13.5, 12.5j)],\n",
              " [(0.0, 15j),\n",
              "  (1.5, 15j),\n",
              "  (3.0, 15j),\n",
              "  (4.5, 15j),\n",
              "  (6.0, 15j),\n",
              "  (7.5, 15j),\n",
              "  (9.0, 15j),\n",
              "  (10.5, 15j),\n",
              "  (12.0, 15j),\n",
              "  (13.5, 15j)],\n",
              " [(0.0, 17.5j),\n",
              "  (1.5, 17.5j),\n",
              "  (3.0, 17.5j),\n",
              "  (4.5, 17.5j),\n",
              "  (6.0, 17.5j),\n",
              "  (7.5, 17.5j),\n",
              "  (9.0, 17.5j),\n",
              "  (10.5, 17.5j),\n",
              "  (12.0, 17.5j),\n",
              "  (13.5, 17.5j)],\n",
              " [(0.0, 20j),\n",
              "  (1.5, 20j),\n",
              "  (3.0, 20j),\n",
              "  (4.5, 20j),\n",
              "  (6.0, 20j),\n",
              "  (7.5, 20j),\n",
              "  (9.0, 20j),\n",
              "  (10.5, 20j),\n",
              "  (12.0, 20j),\n",
              "  (13.5, 20j)],\n",
              " [(0.0, 22.5j),\n",
              "  (1.5, 22.5j),\n",
              "  (3.0, 22.5j),\n",
              "  (4.5, 22.5j),\n",
              "  (6.0, 22.5j),\n",
              "  (7.5, 22.5j),\n",
              "  (9.0, 22.5j),\n",
              "  (10.5, 22.5j),\n",
              "  (12.0, 22.5j),\n",
              "  (13.5, 22.5j)]]"
            ]
          },
          "metadata": {},
          "execution_count": 7
        }
      ]
    },
    {
      "cell_type": "markdown",
      "id": "2e7a6bf4",
      "metadata": {
        "id": "2e7a6bf4"
      },
      "source": [
        "## Задание\n",
        "\n",
        "1. Сгенерировать последовательность из 100 элементов: `[1.18, 3.27, ...]`\n",
        "\n",
        "2. Создать двумерный массив из 100 псевдослучайных чисел, равномерно распределенных на полуинтервале $[\\pi, 10\\pi)$\n",
        "\n",
        "3. Преобразовать полученный массив так, чтобы элементы стали целочисленными\n",
        "\n",
        "4. Из массива `[0, 1, ..., 99]` случайным образом выбрать 10 элементов\n"
      ]
    },
    {
      "cell_type": "code",
      "source": [
        "array = [round(1.18+(2.09*j),2) for j in range(100)]  \n",
        "array"
      ],
      "metadata": {
        "id": "Hw89gkGcfMeQ",
        "colab": {
          "base_uri": "https://localhost:8080/"
        },
        "outputId": "dba585f4-5202-4385-9c8b-e75bd96c3486"
      },
      "id": "Hw89gkGcfMeQ",
      "execution_count": null,
      "outputs": [
        {
          "output_type": "execute_result",
          "data": {
            "text/plain": [
              "[1.18,\n",
              " 3.27,\n",
              " 5.36,\n",
              " 7.45,\n",
              " 9.54,\n",
              " 11.63,\n",
              " 13.72,\n",
              " 15.81,\n",
              " 17.9,\n",
              " 19.99,\n",
              " 22.08,\n",
              " 24.17,\n",
              " 26.26,\n",
              " 28.35,\n",
              " 30.44,\n",
              " 32.53,\n",
              " 34.62,\n",
              " 36.71,\n",
              " 38.8,\n",
              " 40.89,\n",
              " 42.98,\n",
              " 45.07,\n",
              " 47.16,\n",
              " 49.25,\n",
              " 51.34,\n",
              " 53.43,\n",
              " 55.52,\n",
              " 57.61,\n",
              " 59.7,\n",
              " 61.79,\n",
              " 63.88,\n",
              " 65.97,\n",
              " 68.06,\n",
              " 70.15,\n",
              " 72.24,\n",
              " 74.33,\n",
              " 76.42,\n",
              " 78.51,\n",
              " 80.6,\n",
              " 82.69,\n",
              " 84.78,\n",
              " 86.87,\n",
              " 88.96,\n",
              " 91.05,\n",
              " 93.14,\n",
              " 95.23,\n",
              " 97.32,\n",
              " 99.41,\n",
              " 101.5,\n",
              " 103.59,\n",
              " 105.68,\n",
              " 107.77,\n",
              " 109.86,\n",
              " 111.95,\n",
              " 114.04,\n",
              " 116.13,\n",
              " 118.22,\n",
              " 120.31,\n",
              " 122.4,\n",
              " 124.49,\n",
              " 126.58,\n",
              " 128.67,\n",
              " 130.76,\n",
              " 132.85,\n",
              " 134.94,\n",
              " 137.03,\n",
              " 139.12,\n",
              " 141.21,\n",
              " 143.3,\n",
              " 145.39,\n",
              " 147.48,\n",
              " 149.57,\n",
              " 151.66,\n",
              " 153.75,\n",
              " 155.84,\n",
              " 157.93,\n",
              " 160.02,\n",
              " 162.11,\n",
              " 164.2,\n",
              " 166.29,\n",
              " 168.38,\n",
              " 170.47,\n",
              " 172.56,\n",
              " 174.65,\n",
              " 176.74,\n",
              " 178.83,\n",
              " 180.92,\n",
              " 183.01,\n",
              " 185.1,\n",
              " 187.19,\n",
              " 189.28,\n",
              " 191.37,\n",
              " 193.46,\n",
              " 195.55,\n",
              " 197.64,\n",
              " 199.73,\n",
              " 201.82,\n",
              " 203.91,\n",
              " 206.0,\n",
              " 208.09]"
            ]
          },
          "metadata": {},
          "execution_count": 8
        }
      ]
    },
    {
      "cell_type": "code",
      "source": [
        "from random import randint\n",
        "import random\n",
        "array = [random.uniform(math.pi,10*math.pi) for j in range(100)]  \n",
        "array"
      ],
      "metadata": {
        "colab": {
          "base_uri": "https://localhost:8080/"
        },
        "id": "fu4ocURRgKxn",
        "outputId": "8f47ebb2-af97-46d5-8563-385688342d9f"
      },
      "id": "fu4ocURRgKxn",
      "execution_count": null,
      "outputs": [
        {
          "output_type": "execute_result",
          "data": {
            "text/plain": [
              "[31.12764019079063,\n",
              " 28.912208103201625,\n",
              " 4.807904736547394,\n",
              " 27.56110603616581,\n",
              " 27.50088682128026,\n",
              " 21.456783741447744,\n",
              " 15.706692903821903,\n",
              " 8.224343528652758,\n",
              " 19.16387098797428,\n",
              " 6.61829746399844,\n",
              " 29.59373308703113,\n",
              " 8.842263093326299,\n",
              " 10.549971958123498,\n",
              " 14.88062499069634,\n",
              " 9.282145655249455,\n",
              " 17.854271654353987,\n",
              " 8.888598398702033,\n",
              " 24.3365920045446,\n",
              " 20.591999313479082,\n",
              " 29.720278366345365,\n",
              " 20.007750071132676,\n",
              " 29.168530787201792,\n",
              " 22.55656642036839,\n",
              " 23.213880341801634,\n",
              " 28.423535043268043,\n",
              " 6.931287224735838,\n",
              " 19.118960402589376,\n",
              " 21.86325573439315,\n",
              " 7.468628925265743,\n",
              " 28.879402238523394,\n",
              " 21.754176833252636,\n",
              " 25.51360648569248,\n",
              " 13.255986013653693,\n",
              " 17.071254026115383,\n",
              " 18.96298223825887,\n",
              " 5.257473200713258,\n",
              " 18.042154115008003,\n",
              " 5.535907359907629,\n",
              " 18.655659199905195,\n",
              " 22.59127616766698,\n",
              " 30.797036739778193,\n",
              " 5.25451747696227,\n",
              " 22.635424206911445,\n",
              " 5.3740794351760695,\n",
              " 24.601898555613484,\n",
              " 26.746885845349755,\n",
              " 22.086577956771546,\n",
              " 15.740545350687778,\n",
              " 13.21830855942142,\n",
              " 21.511841625562738,\n",
              " 8.564810895949355,\n",
              " 13.29328917270065,\n",
              " 15.428644275016858,\n",
              " 7.523444479475547,\n",
              " 4.520891053504248,\n",
              " 27.575267944265235,\n",
              " 5.236534221572203,\n",
              " 24.26552553276526,\n",
              " 18.006780977446805,\n",
              " 20.73354283169087,\n",
              " 25.19329811242804,\n",
              " 3.642622606890398,\n",
              " 3.68771701814783,\n",
              " 22.737783698195237,\n",
              " 14.201224707072544,\n",
              " 13.960607856621433,\n",
              " 21.553509273615994,\n",
              " 9.406851197421725,\n",
              " 20.9956960151217,\n",
              " 3.1449192720570327,\n",
              " 9.962123621743457,\n",
              " 30.704539879884795,\n",
              " 20.523471854805692,\n",
              " 23.392994449224148,\n",
              " 10.99666027585214,\n",
              " 27.936425147491377,\n",
              " 10.0611687392183,\n",
              " 15.749559176571381,\n",
              " 22.138886479376858,\n",
              " 9.740616798219055,\n",
              " 21.40681038204154,\n",
              " 16.655997686092405,\n",
              " 13.184042148422579,\n",
              " 24.747084623554567,\n",
              " 25.42828311278258,\n",
              " 25.86708142304451,\n",
              " 22.45311360530034,\n",
              " 8.394256806707212,\n",
              " 24.576022738469206,\n",
              " 6.626797448481529,\n",
              " 27.944887214158477,\n",
              " 8.60369298837352,\n",
              " 13.816545222574788,\n",
              " 19.380594351772345,\n",
              " 29.454645455753404,\n",
              " 9.216030879308938,\n",
              " 28.564519204445947,\n",
              " 21.508546237881134,\n",
              " 15.142030409923986,\n",
              " 16.557326209285325]"
            ]
          },
          "metadata": {},
          "execution_count": 9
        }
      ]
    },
    {
      "cell_type": "code",
      "source": [
        "for i in range(len(array)):\n",
        "  array[i] = round(array[i])\n",
        "array"
      ],
      "metadata": {
        "colab": {
          "base_uri": "https://localhost:8080/"
        },
        "id": "aglohsSTi_Ql",
        "outputId": "a4d6b922-3359-4e49-cf78-bea8c26c273b"
      },
      "id": "aglohsSTi_Ql",
      "execution_count": null,
      "outputs": [
        {
          "output_type": "execute_result",
          "data": {
            "text/plain": [
              "[31,\n",
              " 29,\n",
              " 5,\n",
              " 28,\n",
              " 28,\n",
              " 21,\n",
              " 16,\n",
              " 8,\n",
              " 19,\n",
              " 7,\n",
              " 30,\n",
              " 9,\n",
              " 11,\n",
              " 15,\n",
              " 9,\n",
              " 18,\n",
              " 9,\n",
              " 24,\n",
              " 21,\n",
              " 30,\n",
              " 20,\n",
              " 29,\n",
              " 23,\n",
              " 23,\n",
              " 28,\n",
              " 7,\n",
              " 19,\n",
              " 22,\n",
              " 7,\n",
              " 29,\n",
              " 22,\n",
              " 26,\n",
              " 13,\n",
              " 17,\n",
              " 19,\n",
              " 5,\n",
              " 18,\n",
              " 6,\n",
              " 19,\n",
              " 23,\n",
              " 31,\n",
              " 5,\n",
              " 23,\n",
              " 5,\n",
              " 25,\n",
              " 27,\n",
              " 22,\n",
              " 16,\n",
              " 13,\n",
              " 22,\n",
              " 9,\n",
              " 13,\n",
              " 15,\n",
              " 8,\n",
              " 5,\n",
              " 28,\n",
              " 5,\n",
              " 24,\n",
              " 18,\n",
              " 21,\n",
              " 25,\n",
              " 4,\n",
              " 4,\n",
              " 23,\n",
              " 14,\n",
              " 14,\n",
              " 22,\n",
              " 9,\n",
              " 21,\n",
              " 3,\n",
              " 10,\n",
              " 31,\n",
              " 21,\n",
              " 23,\n",
              " 11,\n",
              " 28,\n",
              " 10,\n",
              " 16,\n",
              " 22,\n",
              " 10,\n",
              " 21,\n",
              " 17,\n",
              " 13,\n",
              " 25,\n",
              " 25,\n",
              " 26,\n",
              " 22,\n",
              " 8,\n",
              " 25,\n",
              " 7,\n",
              " 28,\n",
              " 9,\n",
              " 14,\n",
              " 19,\n",
              " 29,\n",
              " 9,\n",
              " 29,\n",
              " 22,\n",
              " 15,\n",
              " 17]"
            ]
          },
          "metadata": {},
          "execution_count": 10
        }
      ]
    },
    {
      "cell_type": "code",
      "source": [
        "from random import sample\n",
        "\n",
        "sample(range(0, 101), 10)\n",
        "#чем отличается sample ot choise "
      ],
      "metadata": {
        "colab": {
          "base_uri": "https://localhost:8080/"
        },
        "id": "tmbEmcxE4Frn",
        "outputId": "20333bf9-b230-4675-9112-069a9b9c8afe"
      },
      "id": "tmbEmcxE4Frn",
      "execution_count": null,
      "outputs": [
        {
          "output_type": "execute_result",
          "data": {
            "text/plain": [
              "[15, 78, 32, 87, 16, 96, 47, 69, 100, 52]"
            ]
          },
          "metadata": {},
          "execution_count": 29
        }
      ]
    },
    {
      "cell_type": "code",
      "source": [],
      "metadata": {
        "colab": {
          "base_uri": "https://localhost:8080/"
        },
        "id": "o2lcd1fs4Nhz",
        "outputId": "a09f99dd-6179-49cd-a165-d33820522a0a"
      },
      "id": "o2lcd1fs4Nhz",
      "execution_count": null,
      "outputs": [
        {
          "output_type": "execute_result",
          "data": {
            "text/plain": [
              "99"
            ]
          },
          "metadata": {},
          "execution_count": 32
        }
      ]
    },
    {
      "cell_type": "markdown",
      "id": "c5dda285",
      "metadata": {
        "id": "c5dda285"
      },
      "source": [
        "## Задание\n",
        "\n",
        "Используя броадкастинг создать двумерный массив:\n",
        "```\n",
        "[[ 5, 10, 15],\n",
        " [ 6, 12, 18],\n",
        " [ 7, 14, 21],\n",
        " [ 8, 16, 24],\n",
        " [ 9, 18, 27]]\n",
        "```"
      ]
    },
    {
      "cell_type": "code",
      "source": [
        "b=np.array([[ 4, 9, 14],\n",
        " [ 5, 11, 17],\n",
        " [ 6, 13, 20],\n",
        " [ 7, 15, 23],\n",
        " [ 8, 17, 26]])\n",
        "a=np.array([1,2,4])\n",
        "c=np.array([1,2,4])\n",
        "x = np.arange(5)\n",
        "b[:, np.newaxis] + a[np.newaxis, :] + c[np.newaxis, :]\n",
        "\n",
        "b[np.newaxis:,]+[1,1,1]\n"
      ],
      "metadata": {
        "colab": {
          "base_uri": "https://localhost:8080/"
        },
        "id": "djcheoWKkOR4",
        "outputId": "cf8b4b29-f814-4959-eb0d-ce3c7b674c70"
      },
      "id": "djcheoWKkOR4",
      "execution_count": null,
      "outputs": [
        {
          "output_type": "execute_result",
          "data": {
            "text/plain": [
              "array([[ 5, 10, 15],\n",
              "       [ 6, 12, 18],\n",
              "       [ 7, 14, 21],\n",
              "       [ 8, 16, 24],\n",
              "       [ 9, 18, 27]])"
            ]
          },
          "metadata": {},
          "execution_count": 48
        }
      ]
    },
    {
      "cell_type": "markdown",
      "id": "54f6026e",
      "metadata": {
        "id": "54f6026e"
      },
      "source": [
        "## Задание\n",
        "\n",
        "1. Создать массив и выбрать элементы согласно рисунку: ![mask_task_1](mask_task_1.png)\n",
        "\n",
        "2. При помощи `broadcasting` создать массив из чисел $x + iy, x = 0,...,10, y = 0,...,10$. Выбрать из него элементы, модуль которых не превышает 7."
      ]
    },
    {
      "cell_type": "code",
      "source": [
        "import numpy as np \n",
        " \n",
        "array = [] \n",
        "k = 0 \n",
        "while k < 61: \n",
        "    array.append([k, k+2.5, k+5, k+7.5, k+10]) \n",
        "    k += 12.5 \n",
        "     \n",
        " \n",
        " \n",
        " \n",
        "print(array)     \n",
        " \n",
        "newArray = [array[0][1:4], array[2][1:4], array[3][1:4], array[4][1:4]] \n",
        " \n",
        "print(newArray) \n",
        " \n"
      ],
      "metadata": {
        "colab": {
          "base_uri": "https://localhost:8080/"
        },
        "id": "yFc-Q0QID8Fb",
        "outputId": "ec0ff8e6-1a96-4f6d-9c18-cba198eac77c"
      },
      "id": "yFc-Q0QID8Fb",
      "execution_count": null,
      "outputs": [
        {
          "output_type": "stream",
          "name": "stdout",
          "text": [
            "[[0, 2.5, 5, 7.5, 10], [12.5, 15.0, 17.5, 20.0, 22.5], [25.0, 27.5, 30.0, 32.5, 35.0], [37.5, 40.0, 42.5, 45.0, 47.5], [50.0, 52.5, 55.0, 57.5, 60.0]]\n",
            "[[2.5, 5, 7.5], [27.5, 30.0, 32.5], [40.0, 42.5, 45.0], [52.5, 55.0, 57.5]]\n"
          ]
        }
      ]
    },
    {
      "cell_type": "code",
      "source": [
        "a = np.array([complex(0,0),complex(0,1), complex(0,2), complex(0,3), complex(0,4), complex(0,5), complex(0,6), complex(0,7), complex(0,8), complex(0,9), complex(0,10)]) \n",
        "b = np.array([complex(0,0),complex(1,0), complex(2,0), complex(3,0), complex(4,0), complex(5,0), complex(6,0), complex(7,0), complex(8,0), complex(9,0), complex(10,0)]) \n",
        "c = a[:, np.newaxis]+b \n",
        " \n",
        "module = [] \n",
        "for i in range(len(c)): \n",
        "    for j in range(len(c[i])): \n",
        "        modul = (c[i][j].real**2 + c[i][j].imag**2)**(1/2) \n",
        "        if modul < 7: \n",
        "            c += 1 \n",
        "            module.append(c[i][j]) \n",
        " \n",
        " \n",
        "print(module)"
      ],
      "metadata": {
        "colab": {
          "base_uri": "https://localhost:8080/"
        },
        "id": "wjdQgqVMEF8T",
        "outputId": "03e5d341-e139-4188-bba8-3ef5cb7a9d4e"
      },
      "id": "wjdQgqVMEF8T",
      "execution_count": null,
      "outputs": [
        {
          "output_type": "stream",
          "name": "stdout",
          "text": [
            "[(1+0j), (3+0j), (5+0j), (7+0j), (5+1j), (7+1j), (7+2j)]\n"
          ]
        }
      ]
    },
    {
      "cell_type": "markdown",
      "id": "44dea905",
      "metadata": {
        "id": "44dea905"
      },
      "source": [
        "## Задание\n",
        "\n",
        "Вычислить точки на заданной параметрически кривой:\n",
        "\n",
        "$x = sin(t)(e^{cos(t)} - 2cos(4t) + sin^5(\\frac{t}{12}))$\n",
        "\n",
        "$y = cos(t)(e^{cos(t)} - 2cos(4t) + sin^5(\\frac{t}{12}))$\n",
        "\n",
        "для 2000 значений параметра $t \\in [0, 12\\pi]$.\n",
        "\n",
        "Визуализировать кривую, выполнив код:\n",
        "```\n",
        "import matplotlib.pyplot as plt\n",
        "plt.plot(x, y)\n",
        "```"
      ]
    },
    {
      "cell_type": "code",
      "source": [
        "import matplotlib as mpl\n",
        "import matplotlib.pyplot as plt\n",
        "import numpy as np\n",
        "import math\n",
        "x=[]\n",
        "y=[]\n",
        "t=np.linspace(0, 12*math.pi, 1000)\n",
        "for k in range(len(t)):\n",
        "  \n",
        "  x.append(  (math.sin(t[k]))  *   (math.exp(math.cos(t[k])) - 2*math.cos(4*t[k])+(math.sin(t[k]/12))**5))\n",
        "  y.append(  (math.cos(t[k]))  *   (math.exp(math.cos(t[k])) - 2*math.cos(4*t[k])+(math.sin(t[k]/12))**5))\n",
        "plt.plot(x,y)\n"
      ],
      "metadata": {
        "colab": {
          "base_uri": "https://localhost:8080/",
          "height": 447
        },
        "id": "mjdlKsDfzBxw",
        "outputId": "afa19802-ad6a-44b5-faad-0bcc8402bd74"
      },
      "id": "mjdlKsDfzBxw",
      "execution_count": null,
      "outputs": [
        {
          "output_type": "execute_result",
          "data": {
            "text/plain": [
              "[<matplotlib.lines.Line2D at 0x7fb702a8aac0>]"
            ]
          },
          "metadata": {},
          "execution_count": 27
        },
        {
          "output_type": "display_data",
          "data": {
            "text/plain": [
              "<Figure size 640x480 with 1 Axes>"
            ],
            "image/png": "[encoded data removed]"
          },
          "metadata": {}
        }
      ]
    },
    {
      "cell_type": "markdown",
      "id": "d33aa506",
      "metadata": {
        "id": "d33aa506"
      },
      "source": [
        "## Задание\n",
        "\n",
        "Создать двумерный массив, сложив два одномерных:\n",
        "1. [0, 1, 2, 3, 4, 5]\n",
        "2. [10, 11, 12, 13, 14, 15]\n",
        "\n",
        "Реализовать два способа:\n",
        "При помощи метода `reshape` и при помощи `None`-индексации."
      ]
    },
    {
      "cell_type": "code",
      "source": [
        "a= np.arange(6)\n",
        "b = np.arange(10,16)\n",
        "с=np.concatenate((a, b))\n",
        "с.reshape(2,6)\n",
        "# матрица 6 на 6 "
      ],
      "metadata": {
        "colab": {
          "base_uri": "https://localhost:8080/"
        },
        "id": "HwFiNb-c7Xus",
        "outputId": "dcabb06a-8450-43d4-fbf4-84b5a41e78e7"
      },
      "id": "HwFiNb-c7Xus",
      "execution_count": null,
      "outputs": [
        {
          "output_type": "execute_result",
          "data": {
            "text/plain": [
              "array([[ 0,  1,  2,  3,  4,  5],\n",
              "       [10, 11, 12, 13, 14, 15]])"
            ]
          },
          "metadata": {},
          "execution_count": 51
        }
      ]
    },
    {
      "cell_type": "code",
      "source": [
        "a = np.arange(5)\n",
        "b=np.arange(10,15)\n",
        "\n",
        "print (a)  # yields (5, 6)\n",
        "print (a[np.newaxis, :None]+b[np.newaxis, :None])"
      ],
      "metadata": {
        "colab": {
          "base_uri": "https://localhost:8080/"
        },
        "id": "kRQpyaKb93kq",
        "outputId": "f252f258-4391-44c7-8133-b1c2c23ce14e"
      },
      "id": "kRQpyaKb93kq",
      "execution_count": null,
      "outputs": [
        {
          "output_type": "stream",
          "name": "stdout",
          "text": [
            "[0 1 2 3 4]\n",
            "[[10 12 14 16 18]]\n"
          ]
        }
      ]
    },
    {
      "cell_type": "code",
      "source": [],
      "metadata": {
        "id": "7wHHfIsg7TXs"
      },
      "id": "7wHHfIsg7TXs",
      "execution_count": null,
      "outputs": []
    },
    {
      "cell_type": "markdown",
      "id": "d7253ea2",
      "metadata": {
        "id": "d7253ea2"
      },
      "source": [
        "## 1. Найти длину ломаной линии\n",
        "\n",
        "Часто встречаются задачи, где функцию невозможно задать аналитически, а только вычислить ее в некоторых точках численно. В этом случае мы имеем дело с функцией, заданной таблично. График функции в этом случае строится как график кусочно-линейной функции, т.е. упорядоченный набор отрезков, соединяющих предыдущую точку со следующей. **Как вычислить длину такой линии, не прибегая к циклам Python**?\n"
      ]
    },
    {
      "cell_type": "code",
      "source": [
        "import numpy as np \n",
        " \n",
        "points2 = [[1., 1.], [2., 4.], [1., 4.], [1., 1.], [2., 4.], [1., 4.]] \n",
        "answer = 0 \n",
        " \n",
        "def length(points): \n",
        "    global answer \n",
        "    length1 = 0 \n",
        "    if len(points) > 1: \n",
        "        length1 = (((points[1][0] - points[0][0])**2) + ((points[1][1] - points[0][1])**2))**(1/2) \n",
        "        answer += length1 \n",
        "        points.pop(0) \n",
        "        length(points) \n",
        "    else: \n",
        "        print(answer) \n",
        " \n",
        "length(points2)\n",
        "#графика "
      ],
      "metadata": {
        "colab": {
          "base_uri": "https://localhost:8080/"
        },
        "id": "TVfkv_hCDd0C",
        "outputId": "7e74bed4-8080-4e9d-c573-b6beb27557e6"
      },
      "id": "TVfkv_hCDd0C",
      "execution_count": null,
      "outputs": [
        {
          "output_type": "stream",
          "name": "stdout",
          "text": [
            "11.32455532033676\n"
          ]
        }
      ]
    },
    {
      "cell_type": "markdown",
      "id": "db761b07",
      "metadata": {
        "id": "db761b07"
      },
      "source": [
        "## 2. Сгенерировать шахматную доску размера NxN с ячейками размера MxM\n",
        "\n",
        "Задача, которую можно решить различными способами. В ней можно проявить ваш творческий потенциал."
      ]
    },
    {
      "cell_type": "code",
      "source": [
        "import numpy as np\n",
        "import matplotlib.pyplot as plt\n",
        "from matplotlib.colors import LogNorm\n",
        "\n",
        "res = np.add.outer(range(10), range(10)) % 2\n",
        "plt.imshow(res, cmap=\"binary_r\")\n",
        "\n",
        "\n",
        "plt.show()"
      ],
      "metadata": {
        "colab": {
          "base_uri": "https://localhost:8080/",
          "height": 430
        },
        "id": "9k-4TcKe_AWe",
        "outputId": "4d62fc5d-201c-4364-b087-33a56cf47c20"
      },
      "id": "9k-4TcKe_AWe",
      "execution_count": null,
      "outputs": [
        {
          "output_type": "display_data",
          "data": {
            "text/plain": [
              "<Figure size 640x480 with 1 Axes>"
            ],
            "image/png": "[encoded data removed]"
          },
          "metadata": {}
        }
      ]
    },
    {
      "cell_type": "markdown",
      "id": "f0df08c7",
      "metadata": {
        "id": "f0df08c7"
      },
      "source": [
        "## 3. Построить триангуляцию области заданной формы\n",
        "\n",
        "Такая задача встречается при решении различных задач методом конечных элементов. В этом методе искомая непрерывная функция заменяется на сумму кусочных функций, определенных на отдельных элементах. Исходная область может быть сложной формы, в то время как каждый элемент имеет простую форму (например, треугольник)."
      ]
    },
    {
      "cell_type": "code",
      "source": [
        "import numpy as np\n",
        "import matplotlib.pyplot as plt\n",
        "from scipy.spatial import Delaunay\n",
        "from numpy import arange\n",
        "import math\n",
        "  \n",
        "# A 2D array of points\n",
        "points = ([[5.0, 0.0], [1, 3], [1.0, 0.0],\n",
        "                   [5.0, 3.0] ])\n",
        "for i in range(0,360,10):\n",
        "    x=1.5*math.cos(math.radians(i))+3\n",
        "    y=1.5*math.sin(math.radians(i))+1.5\n",
        "    points.append([x,y])\n",
        "\n",
        "print(points)\n",
        "# Perform Delaunay triangulation\n",
        "\n",
        "points = np.array(points)\n",
        "  \n",
        "\n",
        "plt.triplot(points[:,0], points[:,1], tri.simplices.copy())\n",
        "plt.plot(points[:,0], points[:,1], 'o')\n",
        "plt.show()"
      ],
      "metadata": {
        "colab": {
          "base_uri": "https://localhost:8080/",
          "height": 272
        },
        "id": "V9dnhcq6_Kgb",
        "outputId": "6ada3e9c-e727-467b-e1a3-934c9e05ca4f"
      },
      "id": "V9dnhcq6_Kgb",
      "execution_count": null,
      "outputs": [
        {
          "output_type": "stream",
          "name": "stdout",
          "text": [
            "[[5.0, 0.0], [1, 3], [1.0, 0.0], [5.0, 3.0], [4.5, 1.5], [4.477211629518312, 1.7604722665003956], [4.409538931178862, 2.013030214988503], [4.299038105676658, 2.25], [4.149066664678467, 2.4641814145298087], [3.964181414529809, 2.6490666646784673], [3.75, 2.799038105676658], [3.513030214988503, 2.9095389311788624], [3.2604722665003956, 2.9772116295183118], [3.0, 3.0], [2.7395277334996044, 2.9772116295183118], [2.486969785011497, 2.9095389311788624], [2.2500000000000004, 2.799038105676658], [2.035818585470191, 2.6490666646784673], [1.8509333353215331, 2.464181414529809], [1.700961894323342, 2.25], [1.5904610688211376, 2.013030214988503], [1.522788370481688, 1.7604722665003953], [1.5, 1.5000000000000002], [1.522788370481688, 1.2395277334996044], [1.5904610688211374, 0.986969785011497], [1.700961894323342, 0.7499999999999998], [1.850933335321533, 0.5358185854701911], [2.035818585470191, 0.35093333532153315], [2.249999999999999, 0.20096189432334244], [2.486969785011497, 0.09046106882113736], [2.7395277334996044, 0.022788370481688025], [2.9999999999999996, 0.0], [3.260472266500395, 0.022788370481687803], [3.5130302149885035, 0.09046106882113758], [3.75, 0.200961894323342], [3.9641814145298087, 0.3509333353215327], [4.149066664678466, 0.5358185854701907], [4.299038105676658, 0.7499999999999993], [4.409538931178862, 0.9869697850114971], [4.477211629518312, 1.2395277334996044]]\n"
          ]
        },
        {
          "output_type": "error",
          "ename": "NameError",
          "evalue": "ignored",
          "traceback": [
            "\u001b[0;31m---------------------------------------------------------------------------\u001b[0m",
            "\u001b[0;31mNameError\u001b[0m                                 Traceback (most recent call last)",
            "\u001b[0;32m<ipython-input-16-4abc88c591f2>\u001b[0m in \u001b[0;36m<cell line: 21>\u001b[0;34m()\u001b[0m\n\u001b[1;32m     19\u001b[0m \u001b[0;34m\u001b[0m\u001b[0m\n\u001b[1;32m     20\u001b[0m \u001b[0;34m\u001b[0m\u001b[0m\n\u001b[0;32m---> 21\u001b[0;31m \u001b[0mplt\u001b[0m\u001b[0;34m.\u001b[0m\u001b[0mtriplot\u001b[0m\u001b[0;34m(\u001b[0m\u001b[0mpoints\u001b[0m\u001b[0;34m[\u001b[0m\u001b[0;34m:\u001b[0m\u001b[0;34m,\u001b[0m\u001b[0;36m0\u001b[0m\u001b[0;34m]\u001b[0m\u001b[0;34m,\u001b[0m \u001b[0mpoints\u001b[0m\u001b[0;34m[\u001b[0m\u001b[0;34m:\u001b[0m\u001b[0;34m,\u001b[0m\u001b[0;36m1\u001b[0m\u001b[0;34m]\u001b[0m\u001b[0;34m,\u001b[0m \u001b[0mtri\u001b[0m\u001b[0;34m.\u001b[0m\u001b[0msimplices\u001b[0m\u001b[0;34m.\u001b[0m\u001b[0mcopy\u001b[0m\u001b[0;34m(\u001b[0m\u001b[0;34m)\u001b[0m\u001b[0;34m)\u001b[0m\u001b[0;34m\u001b[0m\u001b[0;34m\u001b[0m\u001b[0m\n\u001b[0m\u001b[1;32m     22\u001b[0m \u001b[0mplt\u001b[0m\u001b[0;34m.\u001b[0m\u001b[0mplot\u001b[0m\u001b[0;34m(\u001b[0m\u001b[0mpoints\u001b[0m\u001b[0;34m[\u001b[0m\u001b[0;34m:\u001b[0m\u001b[0;34m,\u001b[0m\u001b[0;36m0\u001b[0m\u001b[0;34m]\u001b[0m\u001b[0;34m,\u001b[0m \u001b[0mpoints\u001b[0m\u001b[0;34m[\u001b[0m\u001b[0;34m:\u001b[0m\u001b[0;34m,\u001b[0m\u001b[0;36m1\u001b[0m\u001b[0;34m]\u001b[0m\u001b[0;34m,\u001b[0m \u001b[0;34m'o'\u001b[0m\u001b[0;34m)\u001b[0m\u001b[0;34m\u001b[0m\u001b[0;34m\u001b[0m\u001b[0m\n\u001b[1;32m     23\u001b[0m \u001b[0mplt\u001b[0m\u001b[0;34m.\u001b[0m\u001b[0mshow\u001b[0m\u001b[0;34m(\u001b[0m\u001b[0;34m)\u001b[0m\u001b[0;34m\u001b[0m\u001b[0;34m\u001b[0m\u001b[0m\n",
            "\u001b[0;31mNameError\u001b[0m: name 'tri' is not defined"
          ]
        }
      ]
    },
    {
      "cell_type": "code",
      "source": [
        "import numpy as np\n",
        "import matplotlib.pyplot as plt\n",
        "from scipy.spatial import Delaunay\n",
        "from numpy import arange\n",
        "import math\n",
        "  \n",
        "# A 2D array of points\n",
        "points = ([[5.0, 0.0], [1, 3], [1.0, 0.0],\n",
        "                   [5.0, 3.0] ])\n",
        "point=([[0.0, 0.0]])\n",
        "for i in range(0,360,10):\n",
        "    x=1.5*math.cos(math.radians(i))+3\n",
        "    y=1.5*math.sin(math.radians(i))+1.5\n",
        "    points.append([x,y])\n",
        "\n",
        "\n",
        "# Perform Delaunay triangulation\n",
        "tr=np.array([])\n",
        "points = np.array(points)\n",
        "tri = Delaunay(points)\n",
        "len1=((tri.simplices.shape[0]))\n",
        "\n",
        "\n",
        "tr = []\n",
        "for k in range(len1):\n",
        "  if 0  in tri.simplices[k] or 1  in tri.simplices[k] or 2  in tri.simplices[k] or 3  in tri.simplices[k]:\n",
        "    tr.append(tri.simplices[k])\n",
        "a=np.array(tr)\n",
        "\n",
        "plt.triplot(points[:,0], points[:,1], a.copy())\n",
        "plt.plot(points[:,0], points[:,1], 'o')\n",
        "plt.show()\n",
        "print(a[0])"
      ],
      "metadata": {
        "id": "uYpV9uC3MTPh",
        "colab": {
          "base_uri": "https://localhost:8080/",
          "height": 447
        },
        "outputId": "de5f4b85-2d49-48de-c5cd-3f0d2695c4d6"
      },
      "id": "uYpV9uC3MTPh",
      "execution_count": null,
      "outputs": [
        {
          "output_type": "display_data",
          "data": {
            "text/plain": [
              "<Figure size 640x480 with 1 Axes>"
            ],
            "image/png": "[encoded data removed]"
          },
          "metadata": {}
        },
        {
          "output_type": "stream",
          "name": "stdout",
          "text": [
            "[3 4 0]\n"
          ]
        }
      ]
    },
    {
      "cell_type": "markdown",
      "id": "4078addc",
      "metadata": {
        "id": "4078addc"
      },
      "source": [
        "Пусть задана прямоугольная область с круглым вырезом.\n",
        "Для разбиения на треугольники будем использовать метод триангуляции Делоне. Реализация этого метода присутствует в библиотеке `scipy.spatial`.\n",
        "\n",
        "Для построения такой триангуляции необходимо:\n",
        "- построить разбиение границы\n",
        "- сгенерировать внутренние узлы\n",
        "- применить реализацию метода Делоне"
      ]
    },
    {
      "cell_type": "markdown",
      "id": "66d8541a",
      "metadata": {
        "id": "66d8541a"
      },
      "source": [
        "## 3.1. Вычислить центры и площади треугольников\n",
        "\n",
        "Разброс площадей треугольников характеризует качество триангуляции.\n",
        "\n",
        "Центры треугольников необходимы для удаления лишних треугольников."
      ]
    },
    {
      "cell_type": "code",
      "source": [
        "len1 = ((a.shape[0]))\n",
        "\n",
        "p=[]\n",
        "f=[]\n",
        "for k in range(len1):\n",
        "  a0 = a[k][0]\n",
        "  b0 = a[k][1]\n",
        "  c0 = a[k][2]\n",
        "  x1 = points[a0][0]\n",
        "  y1 = points[a0][1]\n",
        "  x2 = points[b0][0]\n",
        "  y2 = points[b0][1]\n",
        "  x3 = points[c0][0]\n",
        "  y3 = points[c0][1]\n",
        "  sqrt = 1/2*(x1*(y2-y3)+ x2*(y3-y1)+x3*(y1-y2))\n",
        "  center =[(x1+x2+x3)/3,(y1+y2+y3)/3] \n",
        "\n",
        "  p.append(sqrt)\n",
        "  f.append(center)\n",
        "\n",
        "p,f\n",
        "    \n",
        "#отрисовать центры "
      ],
      "metadata": {
        "id": "AlvyqNdmaI8p",
        "colab": {
          "base_uri": "https://localhost:8080/"
        },
        "outputId": "0670172a-b754-4997-ec2b-a8c418552219"
      },
      "id": "AlvyqNdmaI8p",
      "execution_count": null,
      "outputs": [
        {
          "output_type": "execute_result",
          "data": {
            "text/plain": [
              "([0.75,\n",
              "  0.10795827236739775,\n",
              "  0.08220934448636519,\n",
              "  0.10795827236739763,\n",
              "  0.08220934448636519,\n",
              "  0.12449120426285365,\n",
              "  0.7499999999999999,\n",
              "  0.12819498788485517,\n",
              "  0.13130579540315535,\n",
              "  0.022788370481688247,\n",
              "  0.061736959830233445,\n",
              "  0.11525330202025091,\n",
              "  0.09287396438553053,\n",
              "  0.12449120426285382,\n",
              "  0.1313057954031554,\n",
              "  0.09287396438553103,\n",
              "  0.02278837048168781,\n",
              "  0.08220934448636497,\n",
              "  0.10795827236739791,\n",
              "  0.11525330202025078,\n",
              "  0.12819498788485495,\n",
              "  0.022788370481688018,\n",
              "  0.06173695983023342,\n",
              "  0.12449120426285387,\n",
              "  0.13130579540315557,\n",
              "  0.11525330202025086,\n",
              "  0.12819498788485495,\n",
              "  0.09287396438553047,\n",
              "  0.061736959830233806,\n",
              "  0.022788370481688247,\n",
              "  0.061736959830233445,\n",
              "  0.11525330202025094,\n",
              "  0.09287396438553053,\n",
              "  0.08220934448636474,\n",
              "  0.128194987884855,\n",
              "  0.13130579540315562,\n",
              "  0.12449120426285365,\n",
              "  0.10795827236739808],\n",
              " [[4.833333333333333, 1.5],\n",
              "  [4.628916853565724, 2.2578341604962997],\n",
              "  [4.659070543172771, 2.086824088833465],\n",
              "  [4.628916853565724, 0.7421658395037006],\n",
              "  [4.659070543172771, 0.9131759111665348],\n",
              "  [4.56952567895184, 2.421010071662834],\n",
              "  [1.1666666666666667, 1.5],\n",
              "  [4.371082693069425, 2.704416026402759],\n",
              "  [4.482701590118375, 2.5713938048432694],\n",
              "  [3.7534907555001316, 2.992403876506104],\n",
              "  [3.924500827162966, 2.9622501868990576],\n",
              "  [4.238060471509937, 2.8160349234517086],\n",
              "  [4.087676738329502, 2.902859012285173],\n",
              "  [1.4304743210481599, 0.5789899283371657],\n",
              "  [1.517298409881625, 0.4286061951567303],\n",
              "  [1.9123232616704986, 0.0971409877148266],\n",
              "  [3.7534907555001316, 0.007596123493895934],\n",
              "  [1.3409294568272294, 0.913175911166535],\n",
              "  [1.371083146434275, 0.7421658395037004],\n",
              "  [1.7619395284900634, 0.18396507654829186],\n",
              "  [1.6289173069305747, 0.2955839735972414],\n",
              "  [2.246509244499868, 0.007596123493896008],\n",
              "  [2.075499172837034, 0.0377498131009418],\n",
              "  [4.56952567895184, 0.5789899283371654],\n",
              "  [4.482701590118375, 0.42860619515673],\n",
              "  [4.238060471509936, 0.18396507654829156],\n",
              "  [4.371082693069425, 0.29558397359724115],\n",
              "  [4.087676738329502, 0.09714098771482653],\n",
              "  [3.924500827162966, 0.0377498131009418],\n",
              "  [2.2465092444998684, 2.992403876506104],\n",
              "  [2.075499172837034, 2.9622501868990576],\n",
              "  [1.7619395284900639, 2.8160349234517086],\n",
              "  [1.9123232616704993, 2.902859012285173],\n",
              "  [1.3409294568272294, 2.086824088833465],\n",
              "  [1.6289173069305747, 2.704416026402759],\n",
              "  [1.5172984098816251, 2.57139380484327],\n",
              "  [1.4304743210481599, 2.421010071662834],\n",
              "  [1.3710831464342752, 2.2578341604962993]])"
            ]
          },
          "metadata": {},
          "execution_count": 57
        }
      ]
    },
    {
      "cell_type": "markdown",
      "id": "82ffd4ec",
      "metadata": {
        "id": "82ffd4ec"
      },
      "source": [
        "## 5. Решение задачи [`Four to the floor`](https://py.checkio.org/en/mission/four-to-the-floor/)\n",
        "\n",
        "\n",
        "Необходимо написать функцию `is_covered(room, sensors)`, параметрами которой являются:\n",
        "- `room` - размеры прямоугольной комнаты (список из двух чисел)\n",
        "- `sensors` - координаты и радиусы действия датчиков (список из списков по 3 числа)\n",
        "\n",
        "Функция должна вернуть `True`, если комната полностью просматривается сенсорами, иначе - `False`."
      ]
    },
    {
      "cell_type": "code",
      "execution_count": null,
      "id": "a5c5aa14",
      "metadata": {
        "id": "a5c5aa14",
        "colab": {
          "base_uri": "https://localhost:8080/",
          "height": 870
        },
        "outputId": "ae56f9be-886c-43d2-9c26-1c4a314020f6"
      },
      "outputs": [
        {
          "output_type": "stream",
          "name": "stdout",
          "text": [
            "Example:\n",
            "False\n"
          ]
        },
        {
          "output_type": "display_data",
          "data": {
            "text/plain": [
              "<Figure size 1000x1000 with 1 Axes>"
            ],
            "image/png": "[encoded data removed]"
          },
          "metadata": {}
        }
      ],
      "source": [
        "import math\n",
        "import matplotlib.pyplot as plt\n",
        "from matplotlib.patches import Rectangle\n",
        "\n",
        "def is_covered(room, sensors):\n",
        "    fig = plt.figure(figsize=(10, 10))\n",
        "    ax = fig.add_subplot()\n",
        "\n",
        "    aa=room[0]/2\n",
        "    b=room[1]/2\n",
        "\n",
        "    plt.axis([0, 200, 0, 200])\n",
        "    \n",
        "    # your code here\n",
        "    Ss=0\n",
        "    Sm=0\n",
        "    c1 = Rectangle((aa, b), room[0], room[1], facecolor='g')\n",
        "    plt.gca().add_artist(c1)\n",
        "    for i in sensors:\n",
        "        Ss=i[2]**2*round(math.pi,2)+Ss\n",
        "        c=plt.Circle ((i[0]+aa+aa, i[1]+b+b), radius = i[2], facecolor = 'r')\n",
        "\n",
        "#add circle to plot (gca means \"get current axis\")\n",
        "        plt.gca().add_artist (c)\n",
        "        \n",
        "        \n",
        "    Sm=room[0]*room[1]\n",
        "    if Sm>Ss:\n",
        "        return False\n",
        "    else:\n",
        "        for i in range(room[0]):\n",
        "            for j in range(room[1]):\n",
        "                f=0\n",
        "                for k in sensors:\n",
        "                    if (i-k[0])**2+(j-k[1])**2<=k[2]**2:\n",
        "                        f=1\n",
        "                        break\n",
        "                if f==0:\n",
        "                    return False\n",
        "    return True\n",
        "    ax.add_patch (Rectangle((0, 0), 10, 10, facecolor='r'))\n",
        "plt.show()\n",
        " \n",
        "if __name__ == '__main__':\n",
        "    print(\"Example:\")\n",
        "\n",
        "    print(is_covered([100, 30], [[0, 0, 3], [20,4,10], [-3,20,5]]))\n",
        "\n",
        "#график \n"
      ]
    },
    {
      "cell_type": "code",
      "source": [
        "import matplotlib.pyplot as plt \n",
        "import numpy as np \n",
        " \n",
        "quantity = 2000 \n",
        " \n",
        "t = np.linspace(0, 12.0*np.pi, quantity) \n",
        " \n",
        "operator1 = np.array([[1,0],[0,1]]) \n",
        "operator2 = np.array([[2,0],[0,2]]) \n",
        "operator3 = np.array([[1,1],[1,1]]) \n",
        "operator4 = np.array([[np.exp(3),np.sin(10)],[1,3]]) \n",
        "array = np.array([t, np.sin(t)]) \n",
        "answer1 = [[], []] \n",
        "answer2 = [[], []] \n",
        "answer3 = [[], []] \n",
        "answer4 = [[], []] \n",
        " \n",
        "for i in range(quantity): \n",
        "    vector = [array[0][i], array[1][i]] \n",
        "    array2 = np.dot(operator1, vector) \n",
        "    array3 = np.dot(operator2, vector) \n",
        "    array4 = np.dot(operator3, vector) \n",
        "    array5 = np.dot(operator4, vector) \n",
        " \n",
        "    answer1[0].append(array2[0]) \n",
        "    answer1[1].append(array2[1]) \n",
        " \n",
        "    answer2[0].append(array3[0]) \n",
        "    answer2[1].append(array3[1]) \n",
        " \n",
        "    answer3[0].append(array4[0]) \n",
        "    answer3[1].append(array4[1]) \n",
        " \n",
        "    answer4[0].append(array5[0]) \n",
        "    answer4[1].append(array5[1]) \n",
        " \n",
        " \n",
        "plt.plot(answer1[0], answer1[1]) \n",
        "plt.plot(answer2[0], answer2[1]) \n",
        "plt.plot(answer3[0], answer3[1]) \n",
        "plt.plot(answer4[0], answer4[1]) \n",
        "ax = plt.gca()\n",
        "ax.set_xlim([0, 100])\n",
        "ax.set_ylim([0, 10])\n",
        " \n",
        "plt.show()"
      ],
      "metadata": {
        "colab": {
          "base_uri": "https://localhost:8080/",
          "height": 435
        },
        "id": "ShSha7JmlRBA",
        "outputId": "219ddae5-4d53-4440-e4bc-84a15d629e51"
      },
      "id": "ShSha7JmlRBA",
      "execution_count": null,
      "outputs": [
        {
          "output_type": "display_data",
          "data": {
            "text/plain": [
              "<Figure size 640x480 with 1 Axes>"
            ],
            "image/png": "[encoded data removed]"
          },
          "metadata": {}
        }
      ]
    }
  ],
  "metadata": {
    "kernelspec": {
      "display_name": "Python 3 (ipykernel)",
      "language": "python",
      "name": "python3"
    },
    "language_info": {
      "codemirror_mode": {
        "name": "ipython",
        "version": 3
      },
      "file_extension": ".py",
      "mimetype": "text/x-python",
      "name": "python",
      "nbconvert_exporter": "python",
      "pygments_lexer": "ipython3",
      "version": "3.9.12"
    },
    "colab": {
      "provenance": []
    }
  },
  "nbformat": 4,
  "nbformat_minor": 5
}